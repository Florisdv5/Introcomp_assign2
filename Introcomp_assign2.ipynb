{
 "cells": [
  {
   "cell_type": "code",
   "execution_count": 86,
   "metadata": {},
   "outputs": [],
   "source": [
    "import ndlib\n",
    "import networkx as nx\n",
    "import ndlib.models.epidemics as ep\n",
    "import json\n",
    "import ndlib.models.ModelConfig as mc\n",
    "import numpy as np\n",
    "import math\n",
    "import random\n",
    "import matplotlib.pyplot as plt\n",
    "\n",
    "\n",
    "from ndlib.viz.mpl.DiffusionTrend import DiffusionTrend\n",
    "from ndlib.viz.mpl.DiffusionPrevalence import DiffusionPrevalence"
   ]
  },
  {
   "cell_type": "code",
   "execution_count": 37,
   "metadata": {
    "scrolled": true
   },
   "outputs": [
    {
     "name": "stderr",
     "output_type": "stream",
     "text": [
      "100%|███████████████████████████████████████████████████████████████████████████████| 200/200 [00:01<00:00, 128.25it/s]\n"
     ]
    }
   ],
   "source": [
    "g = nx.erdos_renyi_graph(1000, 0.1)\n",
    "model = ep.SIRModel(g)\n",
    "model.available_statuses\n",
    "# print(json.dumps(model.parameters, indent=2))\n",
    "\n",
    "cfg = mc.Configuration()\n",
    "cfg.add_model_parameter('beta', 0.001) # infection rate\n",
    "cfg.add_model_parameter('gamma', 0.01) # recovery rate\n",
    "cfg.add_model_parameter(\"percentage_infected\", 0.01)\n",
    "model.set_initial_status(cfg)\n",
    "\n",
    "iterations = model.iteration_bunch(200, node_status=True)\n",
    "\n",
    "trends = model.build_trends(iterations)"
   ]
  },
  {
   "cell_type": "code",
   "execution_count": 40,
   "metadata": {},
   "outputs": [],
   "source": [
    "%matplotlib inline\n",
    "from ndlib.viz.mpl.DiffusionTrend import DiffusionTrend\n",
    "viz = DiffusionTrend(model, trends)\n",
    "viz.plot()"
   ]
  },
  {
   "cell_type": "code",
   "execution_count": 39,
   "metadata": {},
   "outputs": [],
   "source": [
    "from ndlib.viz.mpl.DiffusionPrevalence import DiffusionPrevalence\n",
    "viz = DiffusionPrevalence(model, trends)\n",
    "viz.plot()"
   ]
  },
  {
   "cell_type": "markdown",
   "metadata": {},
   "source": [
    "## Gillespie's first reaction method "
   ]
  },
  {
   "cell_type": "code",
   "execution_count": 54,
   "metadata": {},
   "outputs": [
    {
     "ename": "ModuleNotFoundError",
     "evalue": "No module named 'simulation'",
     "output_type": "error",
     "traceback": [
      "\u001b[1;31m---------------------------------------------------------------------------\u001b[0m",
      "\u001b[1;31mModuleNotFoundError\u001b[0m                       Traceback (most recent call last)",
      "\u001b[1;32m<ipython-input-54-6a07bbdea5ac>\u001b[0m in \u001b[0;36m<module>\u001b[1;34m\u001b[0m\n\u001b[1;32m----> 1\u001b[1;33m \u001b[1;32mfrom\u001b[0m \u001b[0msimulation\u001b[0m \u001b[1;32mimport\u001b[0m \u001b[0mSI_Simulation\u001b[0m \u001b[1;31m# Import the model.\u001b[0m\u001b[1;33m\u001b[0m\u001b[1;33m\u001b[0m\u001b[0m\n\u001b[0m",
      "\u001b[1;31mModuleNotFoundError\u001b[0m: No module named 'simulation'"
     ]
    }
   ],
   "source": [
    "from simulation import SI_Simulation # Import the model."
   ]
  },
  {
   "cell_type": "code",
   "execution_count": 74,
   "metadata": {},
   "outputs": [],
   "source": [
    "class SI_Simulation():\n",
    "    \"\"\"\n",
    "    A class to simulate the SI Model.\n",
    "    ===================================================\n",
    "    Input: A - Network adjacency matrix (numpy array) or Networkx graph object.\n",
    "           lam - Contagion parameter.\n",
    "           gam - Spontaneous infection parameter.\n",
    "           i0 - Initial infected fraction.\n",
    "           prop - Propensity calculation method [ALL,TAKE,FANCY,LOOP,SLICE].\n",
    "    \"\"\"\n",
    "\n",
    "    def __init__(self, A, lam=0.1, gam=0.001, i0=0.1, prop='ALL'):\n",
    "\n",
    "        # Network setup.\n",
    "        if type(A)==np.ndarray:\n",
    "            self.A = A\n",
    "        elif type(A)==nx.classes.graph.Graph:\n",
    "            self.A = nx.adj_matrix(A).A\n",
    "        else:\n",
    "            raise BaseException(\"Input an adjacency matrix or networkx object only.\")\n",
    "\n",
    "        # Model Parameters.\n",
    "        self.N = A.shape[0]\n",
    "        self.lam = lam/self.N\n",
    "        self.gam = gam\n",
    "        self.prop = prop\n",
    "\n",
    "        # Time-keeping.\n",
    "        self.t = 0\n",
    "        self.times = [0]\n",
    "        \n",
    "        # Node numbers.\n",
    "        self.I = [int(i0*self.N)]\n",
    "        self.S = [self.N-self.I[0]]\n",
    "        \n",
    "        # Node states.\n",
    "        self.X = np.array([1]*self.S[0] +[2]*self.I[0]).reshape((self.N,1))\n",
    "        np.random.shuffle(self.X)\n",
    "         \n",
    "        # Initial propensity setup.        \n",
    "        self.UpdatePropensityALL() \n",
    "        \n",
    "        # Select which propensity scheme to use.\n",
    "        if self.prop == 'ALL':\n",
    "            self.UpdatePropensity = self.UpdatePropensityALL \n",
    "        elif self.prop == 'FANCY':\n",
    "            self.UpdatePropensity = self.UpdatePropensityFANCY \n",
    "        elif self.prop == 'TAKE':\n",
    "            self.UpdatePropensity = self.UpdatePropensityTAKE \n",
    "        elif self.prop == 'SLICE':\n",
    "            self.UpdatePropensity = self.UpdatePropensitySLICE\n",
    "        elif self.prop == 'LOOP':\n",
    "            self.UpdatePropensity = self.UpdatePropensityLOOP\n",
    "        else:\n",
    "            raise BaseException(\"Please specify a propensity scheme [ALL,TAKE,FANCY,LOOP,SLICE].\")\n",
    "        return None\n",
    "        \n",
    "    def UpdatePropensityALL(self, n_nodes=None):\n",
    "        self.IP = (self.gam + self.lam*self.A.dot(self.X==2))*(self.X==1)\n",
    "        return None\n",
    "    \n",
    "    def UpdatePropensityTAKE(self,n_nodes):   \n",
    "        self.IP[n_nodes] = (self.gam + self.lam*np.take(self.A,n_nodes, axis=0).dot(self.X==2))*((np.take(self.X,n_nodes, axis=0)==1))\n",
    "        return None    \n",
    "    \n",
    "    def UpdatePropensityFANCY(self,n_nodes):\n",
    "        self.IP[n_nodes] = (self.gam + self.lam*self.A[n_nodes].dot(self.X==2))*(self.X[n_nodes]==1)\n",
    "        return None\n",
    "        \n",
    "    def UpdatePropensityLOOP(self,n_nodes):        \n",
    "        for node in n_nodes:\n",
    "            self.IP[node] = (self.gam + self.lam*self.A[node].dot(self.X==2))*(self.X[node]==1)\n",
    "        return None\n",
    "    \n",
    "    def UpdatePropensitySLICE(self,n_nodes):        \n",
    "        nmax, nmin = n_nodes.max()+1, n_nodes.min()\n",
    "        self.IP[nmin:nmax] = (self.gam + self.lam*self.A[nmin:nmax,:].dot(self.X==2))*(self.X[nmin:nmax]==1)\n",
    "        return None\n",
    "        \n",
    "    def RunIteration(self):\n",
    "        \n",
    "        # Termination.\n",
    "        if self.S[-1] == 0:\n",
    "            self.S = np.array(self.S, dtype=float)\n",
    "            self.I = np.array(self.I, dtype=float)\n",
    "            return False\n",
    "\n",
    "        # 1. Generate random numbers r1,r2 uniformly distributed in (0,1)\n",
    "        r1 = np.random.rand()\n",
    "        r2 = np.random.rand()\n",
    "        \n",
    "        # 2. Calculate alpha.\n",
    "        cumsum = self.IP.cumsum()\n",
    "        self.alpha = cumsum[-1]\n",
    "\n",
    "        # 3. Compute the time until the next reaction takes place.\n",
    "        tau = (1.0/self.alpha)*np.log(float(1.0/r1))\n",
    "        self.t += tau\n",
    "        self.times.append(self.t)\n",
    "\n",
    "        # 4. Compute which reaction takes place.\n",
    "        index = np.searchsorted(cumsum,r2*self.alpha)\n",
    "\n",
    "        # 5. Update node states. \n",
    "        self.X[index%self.N] = 2\n",
    "        self.S.append(self.S[-1] - 1)\n",
    "        self.I.append(self.I[-1] + 1)\n",
    "            \n",
    "        # 6. Update propensities\n",
    "        n1 = np.nonzero(self.A[index%self.N])[0]\n",
    "        n1 = np.append(n1,index%self.N)\n",
    "        \n",
    "        self.UpdatePropensity(n1)\n",
    "        return True\n",
    "\n",
    "    def RunToConvergence(self):\n",
    "        running = True\n",
    "        while running:\n",
    "            running = self.RunIteration()\n",
    "        return None\n",
    "    \n",
    "    def IntegrateSolution(self):\n",
    "        from scipy.integrate import odeint\n",
    "        gam = self.gam\n",
    "        lam = self.lam*self.N\n",
    "        k = self.A.sum(axis=0).mean()\n",
    "\n",
    "        def deriv(x,t):\n",
    "            xdot = [-x[0]*(gam + lam*x[1]),\n",
    "                    +x[0]*(gam + lam*x[1])]\n",
    "            return xdot\n",
    "\n",
    "        x0 = [float(self.S[0])/self.N,float(self.I[0])/self.N]\n",
    "        t = np.linspace(0,self.times[-1],100)\n",
    "        x = odeint(deriv,x0,t)\n",
    "        self.solution = x\n",
    "        return None"
   ]
  },
  {
   "cell_type": "code",
   "execution_count": 77,
   "metadata": {},
   "outputs": [
    {
     "name": "stdout",
     "output_type": "stream",
     "text": [
      "<class 'networkx.classes.graph.Graph'>\n"
     ]
    }
   ],
   "source": [
    "G = nx.erdos_renyi_graph(1000,0.95) # Use Networkx to generate a random graph.\n",
    "print(type(G))"
   ]
  },
  {
   "cell_type": "code",
   "execution_count": 76,
   "metadata": {},
   "outputs": [
    {
     "ename": "AttributeError",
     "evalue": "'Graph' object has no attribute 'shape'",
     "output_type": "error",
     "traceback": [
      "\u001b[1;31m---------------------------------------------------------------------------\u001b[0m",
      "\u001b[1;31mAttributeError\u001b[0m                            Traceback (most recent call last)",
      "\u001b[1;32m<ipython-input-76-b9dfe395896b>\u001b[0m in \u001b[0;36m<module>\u001b[1;34m\u001b[0m\n\u001b[1;32m----> 1\u001b[1;33m \u001b[0mget_ipython\u001b[0m\u001b[1;33m(\u001b[0m\u001b[1;33m)\u001b[0m\u001b[1;33m.\u001b[0m\u001b[0mrun_cell_magic\u001b[0m\u001b[1;33m(\u001b[0m\u001b[1;34m'timeit'\u001b[0m\u001b[1;33m,\u001b[0m \u001b[1;34m''\u001b[0m\u001b[1;33m,\u001b[0m \u001b[1;34m\"model = SI_Simulation(G, lam=0.1, gam=0.05, i0=0.1, prop='TAKE')\\nmodel.RunToConvergence()\\n\"\u001b[0m\u001b[1;33m)\u001b[0m\u001b[1;33m\u001b[0m\u001b[1;33m\u001b[0m\u001b[0m\n\u001b[0m",
      "\u001b[1;32m~\\anaconda3\\lib\\site-packages\\IPython\\core\\interactiveshell.py\u001b[0m in \u001b[0;36mrun_cell_magic\u001b[1;34m(self, magic_name, line, cell)\u001b[0m\n\u001b[0;32m   2369\u001b[0m             \u001b[1;32mwith\u001b[0m \u001b[0mself\u001b[0m\u001b[1;33m.\u001b[0m\u001b[0mbuiltin_trap\u001b[0m\u001b[1;33m:\u001b[0m\u001b[1;33m\u001b[0m\u001b[1;33m\u001b[0m\u001b[0m\n\u001b[0;32m   2370\u001b[0m                 \u001b[0margs\u001b[0m \u001b[1;33m=\u001b[0m \u001b[1;33m(\u001b[0m\u001b[0mmagic_arg_s\u001b[0m\u001b[1;33m,\u001b[0m \u001b[0mcell\u001b[0m\u001b[1;33m)\u001b[0m\u001b[1;33m\u001b[0m\u001b[1;33m\u001b[0m\u001b[0m\n\u001b[1;32m-> 2371\u001b[1;33m                 \u001b[0mresult\u001b[0m \u001b[1;33m=\u001b[0m \u001b[0mfn\u001b[0m\u001b[1;33m(\u001b[0m\u001b[1;33m*\u001b[0m\u001b[0margs\u001b[0m\u001b[1;33m,\u001b[0m \u001b[1;33m**\u001b[0m\u001b[0mkwargs\u001b[0m\u001b[1;33m)\u001b[0m\u001b[1;33m\u001b[0m\u001b[1;33m\u001b[0m\u001b[0m\n\u001b[0m\u001b[0;32m   2372\u001b[0m             \u001b[1;32mreturn\u001b[0m \u001b[0mresult\u001b[0m\u001b[1;33m\u001b[0m\u001b[1;33m\u001b[0m\u001b[0m\n\u001b[0;32m   2373\u001b[0m \u001b[1;33m\u001b[0m\u001b[0m\n",
      "\u001b[1;32m<decorator-gen-61>\u001b[0m in \u001b[0;36mtimeit\u001b[1;34m(self, line, cell, local_ns)\u001b[0m\n",
      "\u001b[1;32m~\\anaconda3\\lib\\site-packages\\IPython\\core\\magic.py\u001b[0m in \u001b[0;36m<lambda>\u001b[1;34m(f, *a, **k)\u001b[0m\n\u001b[0;32m    185\u001b[0m     \u001b[1;31m# but it's overkill for just that one bit of state.\u001b[0m\u001b[1;33m\u001b[0m\u001b[1;33m\u001b[0m\u001b[1;33m\u001b[0m\u001b[0m\n\u001b[0;32m    186\u001b[0m     \u001b[1;32mdef\u001b[0m \u001b[0mmagic_deco\u001b[0m\u001b[1;33m(\u001b[0m\u001b[0marg\u001b[0m\u001b[1;33m)\u001b[0m\u001b[1;33m:\u001b[0m\u001b[1;33m\u001b[0m\u001b[1;33m\u001b[0m\u001b[0m\n\u001b[1;32m--> 187\u001b[1;33m         \u001b[0mcall\u001b[0m \u001b[1;33m=\u001b[0m \u001b[1;32mlambda\u001b[0m \u001b[0mf\u001b[0m\u001b[1;33m,\u001b[0m \u001b[1;33m*\u001b[0m\u001b[0ma\u001b[0m\u001b[1;33m,\u001b[0m \u001b[1;33m**\u001b[0m\u001b[0mk\u001b[0m\u001b[1;33m:\u001b[0m \u001b[0mf\u001b[0m\u001b[1;33m(\u001b[0m\u001b[1;33m*\u001b[0m\u001b[0ma\u001b[0m\u001b[1;33m,\u001b[0m \u001b[1;33m**\u001b[0m\u001b[0mk\u001b[0m\u001b[1;33m)\u001b[0m\u001b[1;33m\u001b[0m\u001b[1;33m\u001b[0m\u001b[0m\n\u001b[0m\u001b[0;32m    188\u001b[0m \u001b[1;33m\u001b[0m\u001b[0m\n\u001b[0;32m    189\u001b[0m         \u001b[1;32mif\u001b[0m \u001b[0mcallable\u001b[0m\u001b[1;33m(\u001b[0m\u001b[0marg\u001b[0m\u001b[1;33m)\u001b[0m\u001b[1;33m:\u001b[0m\u001b[1;33m\u001b[0m\u001b[1;33m\u001b[0m\u001b[0m\n",
      "\u001b[1;32m~\\anaconda3\\lib\\site-packages\\IPython\\core\\magics\\execution.py\u001b[0m in \u001b[0;36mtimeit\u001b[1;34m(self, line, cell, local_ns)\u001b[0m\n\u001b[0;32m   1161\u001b[0m             \u001b[1;32mfor\u001b[0m \u001b[0mindex\u001b[0m \u001b[1;32min\u001b[0m \u001b[0mrange\u001b[0m\u001b[1;33m(\u001b[0m\u001b[1;36m0\u001b[0m\u001b[1;33m,\u001b[0m \u001b[1;36m10\u001b[0m\u001b[1;33m)\u001b[0m\u001b[1;33m:\u001b[0m\u001b[1;33m\u001b[0m\u001b[1;33m\u001b[0m\u001b[0m\n\u001b[0;32m   1162\u001b[0m                 \u001b[0mnumber\u001b[0m \u001b[1;33m=\u001b[0m \u001b[1;36m10\u001b[0m \u001b[1;33m**\u001b[0m \u001b[0mindex\u001b[0m\u001b[1;33m\u001b[0m\u001b[1;33m\u001b[0m\u001b[0m\n\u001b[1;32m-> 1163\u001b[1;33m                 \u001b[0mtime_number\u001b[0m \u001b[1;33m=\u001b[0m \u001b[0mtimer\u001b[0m\u001b[1;33m.\u001b[0m\u001b[0mtimeit\u001b[0m\u001b[1;33m(\u001b[0m\u001b[0mnumber\u001b[0m\u001b[1;33m)\u001b[0m\u001b[1;33m\u001b[0m\u001b[1;33m\u001b[0m\u001b[0m\n\u001b[0m\u001b[0;32m   1164\u001b[0m                 \u001b[1;32mif\u001b[0m \u001b[0mtime_number\u001b[0m \u001b[1;33m>=\u001b[0m \u001b[1;36m0.2\u001b[0m\u001b[1;33m:\u001b[0m\u001b[1;33m\u001b[0m\u001b[1;33m\u001b[0m\u001b[0m\n\u001b[0;32m   1165\u001b[0m                     \u001b[1;32mbreak\u001b[0m\u001b[1;33m\u001b[0m\u001b[1;33m\u001b[0m\u001b[0m\n",
      "\u001b[1;32m~\\anaconda3\\lib\\site-packages\\IPython\\core\\magics\\execution.py\u001b[0m in \u001b[0;36mtimeit\u001b[1;34m(self, number)\u001b[0m\n\u001b[0;32m    167\u001b[0m         \u001b[0mgc\u001b[0m\u001b[1;33m.\u001b[0m\u001b[0mdisable\u001b[0m\u001b[1;33m(\u001b[0m\u001b[1;33m)\u001b[0m\u001b[1;33m\u001b[0m\u001b[1;33m\u001b[0m\u001b[0m\n\u001b[0;32m    168\u001b[0m         \u001b[1;32mtry\u001b[0m\u001b[1;33m:\u001b[0m\u001b[1;33m\u001b[0m\u001b[1;33m\u001b[0m\u001b[0m\n\u001b[1;32m--> 169\u001b[1;33m             \u001b[0mtiming\u001b[0m \u001b[1;33m=\u001b[0m \u001b[0mself\u001b[0m\u001b[1;33m.\u001b[0m\u001b[0minner\u001b[0m\u001b[1;33m(\u001b[0m\u001b[0mit\u001b[0m\u001b[1;33m,\u001b[0m \u001b[0mself\u001b[0m\u001b[1;33m.\u001b[0m\u001b[0mtimer\u001b[0m\u001b[1;33m)\u001b[0m\u001b[1;33m\u001b[0m\u001b[1;33m\u001b[0m\u001b[0m\n\u001b[0m\u001b[0;32m    170\u001b[0m         \u001b[1;32mfinally\u001b[0m\u001b[1;33m:\u001b[0m\u001b[1;33m\u001b[0m\u001b[1;33m\u001b[0m\u001b[0m\n\u001b[0;32m    171\u001b[0m             \u001b[1;32mif\u001b[0m \u001b[0mgcold\u001b[0m\u001b[1;33m:\u001b[0m\u001b[1;33m\u001b[0m\u001b[1;33m\u001b[0m\u001b[0m\n",
      "\u001b[1;32m<magic-timeit>\u001b[0m in \u001b[0;36minner\u001b[1;34m(_it, _timer)\u001b[0m\n",
      "\u001b[1;32m<ipython-input-74-257936960f68>\u001b[0m in \u001b[0;36m__init__\u001b[1;34m(self, A, lam, gam, i0, prop)\u001b[0m\n\u001b[0;32m     21\u001b[0m \u001b[1;33m\u001b[0m\u001b[0m\n\u001b[0;32m     22\u001b[0m         \u001b[1;31m# Model Parameters.\u001b[0m\u001b[1;33m\u001b[0m\u001b[1;33m\u001b[0m\u001b[1;33m\u001b[0m\u001b[0m\n\u001b[1;32m---> 23\u001b[1;33m         \u001b[0mself\u001b[0m\u001b[1;33m.\u001b[0m\u001b[0mN\u001b[0m \u001b[1;33m=\u001b[0m \u001b[0mA\u001b[0m\u001b[1;33m.\u001b[0m\u001b[0mshape\u001b[0m\u001b[1;33m[\u001b[0m\u001b[1;36m0\u001b[0m\u001b[1;33m]\u001b[0m\u001b[1;33m\u001b[0m\u001b[1;33m\u001b[0m\u001b[0m\n\u001b[0m\u001b[0;32m     24\u001b[0m         \u001b[0mself\u001b[0m\u001b[1;33m.\u001b[0m\u001b[0mlam\u001b[0m \u001b[1;33m=\u001b[0m \u001b[0mlam\u001b[0m\u001b[1;33m/\u001b[0m\u001b[0mself\u001b[0m\u001b[1;33m.\u001b[0m\u001b[0mN\u001b[0m\u001b[1;33m\u001b[0m\u001b[1;33m\u001b[0m\u001b[0m\n\u001b[0;32m     25\u001b[0m         \u001b[0mself\u001b[0m\u001b[1;33m.\u001b[0m\u001b[0mgam\u001b[0m \u001b[1;33m=\u001b[0m \u001b[0mgam\u001b[0m\u001b[1;33m\u001b[0m\u001b[1;33m\u001b[0m\u001b[0m\n",
      "\u001b[1;31mAttributeError\u001b[0m: 'Graph' object has no attribute 'shape'"
     ]
    }
   ],
   "source": [
    "%%timeit\n",
    "model = SI_Simulation(G, lam=0.1, gam=0.05, i0=0.1, prop='TAKE')\n",
    "model.RunToConvergence()"
   ]
  },
  {
   "cell_type": "code",
   "execution_count": 70,
   "metadata": {},
   "outputs": [
    {
     "ename": "AttributeError",
     "evalue": "'Graph' object has no attribute 'shape'",
     "output_type": "error",
     "traceback": [
      "\u001b[1;31m---------------------------------------------------------------------------\u001b[0m",
      "\u001b[1;31mAttributeError\u001b[0m                            Traceback (most recent call last)",
      "\u001b[1;32m<ipython-input-70-cebb8c482e10>\u001b[0m in \u001b[0;36m<module>\u001b[1;34m\u001b[0m\n\u001b[1;32m----> 1\u001b[1;33m \u001b[0mmodel\u001b[0m \u001b[1;33m=\u001b[0m \u001b[0mSI_Simulation\u001b[0m\u001b[1;33m(\u001b[0m\u001b[0mG\u001b[0m\u001b[1;33m,\u001b[0m \u001b[0mlam\u001b[0m\u001b[1;33m=\u001b[0m\u001b[1;36m0.8\u001b[0m\u001b[1;33m,\u001b[0m \u001b[0mgam\u001b[0m\u001b[1;33m=\u001b[0m\u001b[1;36m0.001\u001b[0m\u001b[1;33m,\u001b[0m \u001b[0mi0\u001b[0m\u001b[1;33m=\u001b[0m\u001b[1;36m0.0\u001b[0m\u001b[1;33m)\u001b[0m \u001b[1;31m# Setup the simulation with given parameters.\u001b[0m\u001b[1;33m\u001b[0m\u001b[1;33m\u001b[0m\u001b[0m\n\u001b[0m\u001b[0;32m      2\u001b[0m \u001b[0mmodel\u001b[0m\u001b[1;33m.\u001b[0m\u001b[0mRunToConvergence\u001b[0m\u001b[1;33m(\u001b[0m\u001b[1;33m)\u001b[0m \u001b[1;31m# Run the simulation.\u001b[0m\u001b[1;33m\u001b[0m\u001b[1;33m\u001b[0m\u001b[0m\n\u001b[0;32m      3\u001b[0m \u001b[0mmodel\u001b[0m\u001b[1;33m.\u001b[0m\u001b[0mIntegrateSolution\u001b[0m\u001b[1;33m(\u001b[0m\u001b[1;33m)\u001b[0m \u001b[1;31m# Numerically integrate the mean field equations.\u001b[0m\u001b[1;33m\u001b[0m\u001b[1;33m\u001b[0m\u001b[0m\n",
      "\u001b[1;32m<ipython-input-68-257936960f68>\u001b[0m in \u001b[0;36m__init__\u001b[1;34m(self, A, lam, gam, i0, prop)\u001b[0m\n\u001b[0;32m     21\u001b[0m \u001b[1;33m\u001b[0m\u001b[0m\n\u001b[0;32m     22\u001b[0m         \u001b[1;31m# Model Parameters.\u001b[0m\u001b[1;33m\u001b[0m\u001b[1;33m\u001b[0m\u001b[1;33m\u001b[0m\u001b[0m\n\u001b[1;32m---> 23\u001b[1;33m         \u001b[0mself\u001b[0m\u001b[1;33m.\u001b[0m\u001b[0mN\u001b[0m \u001b[1;33m=\u001b[0m \u001b[0mA\u001b[0m\u001b[1;33m.\u001b[0m\u001b[0mshape\u001b[0m\u001b[1;33m[\u001b[0m\u001b[1;36m0\u001b[0m\u001b[1;33m]\u001b[0m\u001b[1;33m\u001b[0m\u001b[1;33m\u001b[0m\u001b[0m\n\u001b[0m\u001b[0;32m     24\u001b[0m         \u001b[0mself\u001b[0m\u001b[1;33m.\u001b[0m\u001b[0mlam\u001b[0m \u001b[1;33m=\u001b[0m \u001b[0mlam\u001b[0m\u001b[1;33m/\u001b[0m\u001b[0mself\u001b[0m\u001b[1;33m.\u001b[0m\u001b[0mN\u001b[0m\u001b[1;33m\u001b[0m\u001b[1;33m\u001b[0m\u001b[0m\n\u001b[0;32m     25\u001b[0m         \u001b[0mself\u001b[0m\u001b[1;33m.\u001b[0m\u001b[0mgam\u001b[0m \u001b[1;33m=\u001b[0m \u001b[0mgam\u001b[0m\u001b[1;33m\u001b[0m\u001b[1;33m\u001b[0m\u001b[0m\n",
      "\u001b[1;31mAttributeError\u001b[0m: 'Graph' object has no attribute 'shape'"
     ]
    }
   ],
   "source": [
    "model = SI_Simulation(G, lam=0.8, gam=0.001, i0=0.0) # Setup the simulation with given parameters.\n",
    "model.RunToConvergence() # Run the simulation.\n",
    "model.IntegrateSolution() # Numerically integrate the mean field equations."
   ]
  },
  {
   "cell_type": "code",
   "execution_count": 49,
   "metadata": {},
   "outputs": [
    {
     "ename": "NameError",
     "evalue": "name 'plot' is not defined",
     "output_type": "error",
     "traceback": [
      "\u001b[1;31m---------------------------------------------------------------------------\u001b[0m",
      "\u001b[1;31mNameError\u001b[0m                                 Traceback (most recent call last)",
      "\u001b[1;32m<ipython-input-49-b20c275ec8b3>\u001b[0m in \u001b[0;36m<module>\u001b[1;34m\u001b[0m\n\u001b[0;32m      1\u001b[0m \u001b[1;31m# Simulation.\u001b[0m\u001b[1;33m\u001b[0m\u001b[1;33m\u001b[0m\u001b[1;33m\u001b[0m\u001b[0m\n\u001b[1;32m----> 2\u001b[1;33m \u001b[0mplot\u001b[0m\u001b[1;33m(\u001b[0m\u001b[0mmodel\u001b[0m\u001b[1;33m.\u001b[0m\u001b[0mtimes\u001b[0m\u001b[1;33m,\u001b[0m\u001b[0mmodel\u001b[0m\u001b[1;33m.\u001b[0m\u001b[0mS\u001b[0m\u001b[1;33m/\u001b[0m\u001b[0mmodel\u001b[0m\u001b[1;33m.\u001b[0m\u001b[0mN\u001b[0m\u001b[1;33m,\u001b[0m \u001b[1;34m'g-'\u001b[0m\u001b[1;33m,\u001b[0m \u001b[0mlabel\u001b[0m\u001b[1;33m=\u001b[0m\u001b[1;34m'Susceptible (sim)'\u001b[0m\u001b[1;33m)\u001b[0m\u001b[1;33m;\u001b[0m\u001b[1;33m\u001b[0m\u001b[1;33m\u001b[0m\u001b[0m\n\u001b[0m\u001b[0;32m      3\u001b[0m \u001b[0mplot\u001b[0m\u001b[1;33m(\u001b[0m\u001b[0mmodel\u001b[0m\u001b[1;33m.\u001b[0m\u001b[0mtimes\u001b[0m\u001b[1;33m,\u001b[0m\u001b[0mmodel\u001b[0m\u001b[1;33m.\u001b[0m\u001b[0mI\u001b[0m\u001b[1;33m/\u001b[0m\u001b[0mmodel\u001b[0m\u001b[1;33m.\u001b[0m\u001b[0mN\u001b[0m\u001b[1;33m,\u001b[0m \u001b[1;34m'r-'\u001b[0m\u001b[1;33m,\u001b[0m \u001b[0mlabel\u001b[0m\u001b[1;33m=\u001b[0m\u001b[1;34m'Infected (sim)'\u001b[0m\u001b[1;33m)\u001b[0m\u001b[1;33m;\u001b[0m\u001b[1;33m\u001b[0m\u001b[1;33m\u001b[0m\u001b[0m\n\u001b[0;32m      4\u001b[0m \u001b[1;33m\u001b[0m\u001b[0m\n\u001b[0;32m      5\u001b[0m \u001b[1;31m# Numerical Integration.\u001b[0m\u001b[1;33m\u001b[0m\u001b[1;33m\u001b[0m\u001b[1;33m\u001b[0m\u001b[0m\n",
      "\u001b[1;31mNameError\u001b[0m: name 'plot' is not defined"
     ]
    }
   ],
   "source": [
    "# Simulation.\n",
    "plot(model.times,model.S/model.N, 'g-', label='Susceptible (sim)');\n",
    "plot(model.times,model.I/model.N, 'r-', label='Infected (sim)');\n",
    "\n",
    "# Numerical Integration.\n",
    "t = np.linspace(0,model.times[-1],100)\n",
    "plot(t, model.solution[:,0],'g--', label='Susceptible (approx)');\n",
    "plot(t, model.solution[:,1],'r--', label='Infected  (approx)');\n",
    "\n",
    "xlabel('t')\n",
    "ylabel('Population Fraction')\n",
    "\n",
    "legend(bbox_to_anchor=(1.0,0.7));"
   ]
  },
  {
   "cell_type": "markdown",
   "metadata": {},
   "source": [
    "## Wikipedia code"
   ]
  },
  {
   "cell_type": "code",
   "execution_count": 105,
   "metadata": {},
   "outputs": [],
   "source": [
    "# Input parameters ####################\n",
    "\n",
    "# int; total population\n",
    "N = 1000\n",
    "\n",
    "# float; maximum elapsed time\n",
    "T = 100.0\n",
    "\n",
    "# float; start time\n",
    "t = 0.0\n",
    "\n",
    "# float; spatial parameter\n",
    "V = 100.0\n",
    "\n",
    "# float; rate of infection after contact\n",
    "beta = 10.0\n",
    "\n",
    "# float; rate of cure\n",
    "gamma = 10.0\n",
    "\n",
    "# int; initial infected population\n",
    "n_I = 1\n",
    "\n",
    "#########################################\n",
    "\n",
    "# Compute susceptible population, set recovered to zero\n",
    "n_S = N - n_I\n",
    "n_R = 0\n",
    "\n",
    "# Initialize results list\n",
    "SIR_data = []\n",
    "SIR_data.append((t, n_S, n_I, n_R))\n",
    "\n",
    "# Main loop\n",
    "while t < T:\n",
    "    if n_I == 0:\n",
    "        break\n",
    "\n",
    "    w1 = beta * n_S * n_I / V\n",
    "    w2 = gamma * n_I\n",
    "    W = w1 + w2\n",
    "\n",
    "    # generate exponentially distributed random variable dt\n",
    "    # using inverse transform sampling\n",
    "    dt = -math.log(1 - random.uniform(0.0, 1.0)) / W\n",
    "    t = t + dt\n",
    "\n",
    "    if random.uniform(0.0, 1.0) < w1 / W:\n",
    "        n_S = n_S - 1\n",
    "        n_I = n_I + 1\n",
    "    else:\n",
    "        n_I = n_I - 1\n",
    "        n_R = n_R + 1\n",
    "\n",
    "    SIR_data.append((t, n_S, n_I, n_R))\n",
    "\n",
    "with open(\"SIR_data.txt\", \"w+\") as fp:\n",
    "    fp.write(\"\\n\".join(\"%f %i %i %i\" % x for x in SIR_data))\n",
    "\n",
    "\n",
    "from scipy.integrate import odeint\n",
    "import numpy as np\n",
    "\n",
    "# Numerical solution using an ordinary differential equation solver\n",
    "ts = np.linspace(0, 2, num=200)\n",
    "initial_S_I_R = (N - 1, 1, 0)\n",
    "\n",
    "\n",
    "def differential_SIR(initial_S_I_R, t, _alpha, _beta, V):\n",
    "    n_S, n_I, n_R = initial_S_I_R\n",
    "    dS_dt = -beta * n_S / V * n_I\n",
    "    dI_dt = (beta * n_S / V - gamma) * n_I\n",
    "    dR_dt = gamma * n_I\n",
    "    return dS_dt, dI_dt, dR_dt\n",
    "\n",
    "\n",
    "solution = odeint(differential_SIR, initial_S_I_R, ts, args=(_alpha, _beta, V))\n",
    "S1, I1, R1 = solution.T"
   ]
  },
  {
   "cell_type": "code",
   "execution_count": 111,
   "metadata": {},
   "outputs": [
    {
     "name": "stdout",
     "output_type": "stream",
     "text": [
      "<class 'tuple'>\n"
     ]
    }
   ],
   "source": [
    "# print(solution)\n",
    "print(type(SIR_data[1]))\n",
    "\n"
   ]
  },
  {
   "cell_type": "code",
   "execution_count": 94,
   "metadata": {},
   "outputs": [
    {
     "data": {
      "image/png": "[encoded data removed]",
      "text/plain": [
       "<Figure size 432x288 with 1 Axes>"
      ]
     },
     "metadata": {
      "needs_background": "light"
     },
     "output_type": "display_data"
    }
   ],
   "source": [
    "fig = plt.figure()\n",
    "ax = fig.add_subplot(111, axisbelow=True)\n",
    "ax.plot(ts, S1, 'b', alpha=0.5, lw=2, label='Susceptible')\n",
    "ax.plot(ts, I1, 'r', alpha=0.5, lw=2, label='Infected')\n",
    "ax.plot(ts, R1, 'g', alpha=0.5, lw=2, label='Recovered')\n",
    "ax.set_xlabel('Time /days', size = 25)\n",
    "ax.set_ylabel('Fraction', size = 25)\n",
    "#ax.set_ylim(0,1.2)\n",
    "# ax.set_xlim(0,80)\n",
    "ax.yaxis.set_tick_params(length=0)\n",
    "ax.xaxis.set_tick_params(length=0)\n",
    "ax.grid(b=True, which='major', c='lightgray', lw=2, ls='-')\n",
    "legend = ax.legend()\n",
    "legend.get_frame().set_alpha(0.5)\n",
    "for spine in ('top', 'right', 'bottom', 'left'):\n",
    "    ax.spines[spine].set_visible(False)\n",
    "plt.legend(fontsize=\"x-large\")\n",
    "plt.show()"
   ]
  },
  {
   "cell_type": "code",
   "execution_count": null,
   "metadata": {},
   "outputs": [],
   "source": []
  }
 ],
 "metadata": {
  "kernelspec": {
   "display_name": "Python 3",
   "language": "python",
   "name": "python3"
  },
  "language_info": {
   "codemirror_mode": {
    "name": "ipython",
    "version": 3
   },
   "file_extension": ".py",
   "mimetype": "text/x-python",
   "name": "python",
   "nbconvert_exporter": "python",
   "pygments_lexer": "ipython3",
   "version": "3.8.3"
  }
 },
 "nbformat": 4,
 "nbformat_minor": 4
}
